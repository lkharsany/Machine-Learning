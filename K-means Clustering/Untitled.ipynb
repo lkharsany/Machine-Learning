{
 "cells": [
  {
   "cell_type": "code",
   "execution_count": null,
   "metadata": {},
   "outputs": [],
   "source": [
    "import numpy as np\n",
    "import matplotlib.pyplot as plt\n",
    "import matplotlib.image as img"
   ]
  },
  {
   "cell_type": "code",
   "execution_count": null,
   "metadata": {},
   "outputs": [],
   "source": [
    "def read_image():\n",
    "      \n",
    "    image = plt.imread('peppers.bmp') \n",
    "    plt.imshow(img)\n",
    "    plt.show() \n",
    "\n",
    "    image = image / 255 \n",
    "  \n",
    "    return image"
   ]
  },
  {
   "cell_type": "code",
   "execution_count": null,
   "metadata": {},
   "outputs": [],
   "source": [
    "def init_mean(img, clusters):\n",
    "      \n",
    "    points = np.reshape(img, (img.shape[0] * img.shape[1],\n",
    "                                             img.shape[2]))\n",
    "    \n",
    "    p, q = points.shape\n",
    "    means = np.zeros((clusters, q)) \n",
    "  \n",
    "    for i in range(clusters):\n",
    "        rand1 = int(np.random.random(1)*10)\n",
    "        rand2 = int(np.random.random(1)*8)\n",
    "        means[i, 0] = points[rand1, 0]\n",
    "        means[i, 1] = points[rand2, 1]\n",
    "  \n",
    "    return points, means"
   ]
  },
  {
   "cell_type": "code",
   "execution_count": null,
   "metadata": {},
   "outputs": [],
   "source": [
    "# distance(euclid)\n",
    "def distance(x1, y1, x2, y2):\n",
    "      \n",
    "    distance = np.square(x1 - x2) + np.square(y1 - y2)\n",
    "    distance = np.sqrt(dist)\n",
    "  \n",
    "    return distance"
   ]
  },
  {
   "cell_type": "code",
   "execution_count": null,
   "metadata": {},
   "outputs": [],
   "source": [
    "def k_means(points, means, clusters):\n",
    "    \n",
    "    #the number of iterations\n",
    "    cycles = 10 \n",
    "    \n",
    "    p, q = points.shape\n",
    "      \n",
    "    #which pixel belongs in which cluster\n",
    "    index = np.zeros(p) \n",
    "  \n",
    "    #algo\n",
    "    while(cycles > 0):\n",
    "  \n",
    "        for i in range(len(points)):\n",
    "              \n",
    "            #start of with big min value\n",
    "            minv = 1000\n",
    "            temp = None\n",
    "              \n",
    "            for j in range(clusters):\n",
    "                  \n",
    "                x1 = points[i, 0]\n",
    "                y1 = points[i, 1]\n",
    "                x2 = means[j, 0]\n",
    "                y2 = means[j, 1]\n",
    "                  \n",
    "                if(distance(x1, y1, x2, y2) < minv):         \n",
    "                    minv = distance(x1, y1, x2, y2)\n",
    "                    temp = j\n",
    "                    index[i] = j \n",
    "          \n",
    "        for j in range(clusters):\n",
    "              \n",
    "            sumx = 0\n",
    "            sumy = 0\n",
    "            counter = 0\n",
    "              \n",
    "            for j in range(len(points)):\n",
    "                  \n",
    "                if(index[j] == j):\n",
    "                    sumx += points[i, 0]\n",
    "                    sumy += points[i, 1] \n",
    "                    counter += 1\n",
    "              \n",
    "            if(counter == 0):\n",
    "                counter = 1    \n",
    "              \n",
    "            means[j, 0] = float(sumx / counter)\n",
    "            means[j, 1] = float(sumy / counter)     \n",
    "              \n",
    "        cycles -= 1\n",
    "  \n",
    "    return means, index"
   ]
  },
  {
   "cell_type": "code",
   "execution_count": null,
   "metadata": {},
   "outputs": [],
   "source": [
    "def compress_image(means, index, img):\n",
    "  \n",
    "    # remapping image\n",
    "    centroid = np.array(means)\n",
    "    recovered = centroid[index.astype(int), :]\n",
    "      \n",
    "    #returning x * y * 3 matrix\n",
    "    recovered = np.reshape(recovered, (img.shape[0], img.shape[1],\n",
    "                                                     img.shape[2]))\n",
    "  \n",
    "    plt.imshow(recovered)\n",
    "    plt.show()\n",
    "    \n",
    "    #nice to have\n",
    "    #plt.imsave('compressed_' + str(clusters) +\n",
    "    #                   '_colors.png', recovered)\n",
    "  \n",
    "  \n",
    "#Running Code\n",
    "if __name__ == '__main__':\n",
    "  \n",
    "    img = read_image()\n",
    "  \n",
    "    clusters = 4\n",
    "    clusters = int(input('Enter a value for \"k\"(ie. how many clusters/colours in the segmented image). default = 4\\n'))\n",
    "  \n",
    "    points, means = init_mean(img, clusters)\n",
    "    means, index = k_means(points, means, clusters)\n",
    "    compress_image(means, index, img)"
   ]
  }
 ],
 "metadata": {
  "kernelspec": {
   "display_name": "Python 3",
   "language": "python",
   "name": "python3"
  },
  "language_info": {
   "codemirror_mode": {
    "name": "ipython",
    "version": 3
   },
   "file_extension": ".py",
   "mimetype": "text/x-python",
   "name": "python",
   "nbconvert_exporter": "python",
   "pygments_lexer": "ipython3",
   "version": "3.9.5"
  }
 },
 "nbformat": 4,
 "nbformat_minor": 4
}
